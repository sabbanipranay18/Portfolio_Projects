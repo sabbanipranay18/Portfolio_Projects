{
 "cells": [
  {
   "cell_type": "code",
   "execution_count": null,
   "id": "c3707fb9",
   "metadata": {},
   "outputs": [],
   "source": [
    "import pandas as pd\n",
    "import difflib\n",
    "from sklearn.feature_extraction.text import TfidfVectorizer\n",
    "from sklearn.metrics.pairwise import cosine_similarity\n",
    "\n",
    "df = pd.read_csv(\"movie_titles.csv\")\n",
    "\n",
    "df_new = df.reset_index()\n",
    "output = []\n",
    "user_inp_mov = input(\"Search a Movie : \")\n",
    "\n",
    "sel_col = ['type','director','cast','listed_in','description']\n",
    "\n",
    "for featuree in sel_col:\n",
    "    df_new[featuree] = df_new[featuree].fillna('')\n",
    "    \n",
    "com_col = df_new['type']+' '+df_new['director']+' '+df_new['cast']+' '+df_new['listed_in']+' '+df_new['description']\n",
    "\n",
    "vect = TfidfVectorizer()\n",
    "vect_col_num = vect.fit_transform(com_col)\n",
    "\n",
    "similarityy = cosine_similarity(vect_col_num)\n",
    "\n",
    "titles = df_new['title'].tolist()\n",
    "\n",
    "close_movies = difflib.get_close_matches(user_inp_mov,titles)\n",
    "\n",
    "close_movie = close_movies[0]\n",
    "\n",
    "index_pos = df_new[df_new.title == close_movie]['index'].values[0]\n",
    "\n",
    "similarityy_score = list(enumerate(similarityy[index_pos]))\n",
    "\n",
    "sortingg = sorted(similarityy_score, key = lambda x:x[1], reverse=True)\n",
    "\n",
    "\n",
    "print(\"Recommended Movies\")\n",
    "i = 1\n",
    "for moviee in sortingg:\n",
    "    index = moviee[0]\n",
    "    final_movies = df[df.title.index == index]['title'].values[0]\n",
    "    if i<11:\n",
    "        output.append(final_movies)\n",
    "        print(i,\".\",final_movies)\n",
    "        i += 1\n",
    "output"
   ]
  }
 ],
 "metadata": {
  "kernelspec": {
   "display_name": "Python 3 (ipykernel)",
   "language": "python",
   "name": "python3"
  },
  "language_info": {
   "codemirror_mode": {
    "name": "ipython",
    "version": 3
   },
   "file_extension": ".py",
   "mimetype": "text/x-python",
   "name": "python",
   "nbconvert_exporter": "python",
   "pygments_lexer": "ipython3",
   "version": "3.10.9"
  }
 },
 "nbformat": 4,
 "nbformat_minor": 5
}
